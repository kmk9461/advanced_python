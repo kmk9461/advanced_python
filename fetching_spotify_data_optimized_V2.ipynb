{
 "cells": [
  {
   "cell_type": "markdown",
   "id": "93cf31ef",
   "metadata": {
    "ExecuteTime": {
     "end_time": "2024-03-21T19:13:50.333358Z",
     "start_time": "2024-03-21T19:13:50.325296Z"
    }
   },
   "source": [
    "# Authorization & Set-up"
   ]
  },
  {
   "cell_type": "code",
   "execution_count": null,
   "id": "f83051a5",
   "metadata": {
    "ExecuteTime": {
     "end_time": "2024-04-17T21:19:09.709096Z",
     "start_time": "2024-04-17T21:19:09.677500Z"
    }
   },
   "outputs": [],
   "source": [
    "import os\n",
    "current_directory = os.getcwd()\n",
    "%run packages.py #Download all required packages in one fell swoop. "
   ]
  },
  {
   "cell_type": "code",
   "execution_count": null,
   "id": "f9dcc505",
   "metadata": {
    "ExecuteTime": {
     "end_time": "2024-04-17T21:19:10.071416Z",
     "start_time": "2024-04-17T21:19:10.059961Z"
    }
   },
   "outputs": [],
   "source": [
    "AUTH_URL = 'https://accounts.spotify.com/api/token'\n",
    "BASE_URL = 'https://api.spotify.com/v1/'\n",
    "\n",
    "def getAuth():\n",
    "    dotenv_path = '/Users/mariam/Documents/GitHub/advanced_python/credentials.env' # Put your credentials in.\n",
    "    load_dotenv(dotenv_path=dotenv_path)  \n",
    "    \n",
    "    client_id, client_secret = os.environ.get('client_id'), os.environ.get('client_secret') \n",
    "    credentials = f\"{client_id}:{client_secret}\"\n",
    "    credentials_b64 = base64.b64encode(credentials.encode())\n",
    "    \n",
    "    url = 'https://accounts.spotify.com/api/token'\n",
    "    token_data = {'grant_type': 'client_credentials'}\n",
    "    headers = {\n",
    "        'Content-Type': 'application/x-www-form-urlencoded',\n",
    "        'Authorization': f'Basic {credentials_b64.decode()}'\n",
    "    }\n",
    "    response = requests.post(url, data=token_data, headers=headers)\n",
    "    if response.ok:\n",
    "        return response.json().get('access_token')\n",
    "    else:\n",
    "        print(f\"Invalid: {response.status_code}, {response.text}\")\n",
    "        return None"
   ]
  },
  {
   "cell_type": "code",
   "execution_count": null,
   "id": "4a299b47-7d69-4960-8946-a1f249eb5fad",
   "metadata": {},
   "outputs": [],
   "source": [
    "def getDfPlaylistsid(access_token):\n",
    "    user_id = os.environ.get('user_id')\n",
    "    headers = {\n",
    "        \"Authorization\": f\"Bearer {access_token}\"\n",
    "    }\n",
    "    response = requests.get(f\"{BASE_URL}users/{user_id}/playlists\", headers=headers)\n",
    "    if response.ok:\n",
    "        user_playlists_json = response.json()\n",
    "        playlist_ids = [playlist['id'] for playlist in user_playlists_json.get('items', [])]\n",
    "        return playlist_ids\n",
    "    else:\n",
    "        print(f\"Failed to fetch playlist IDs: {response.status_code}, {response.text}\")\n",
    "        return None"
   ]
  },
  {
   "cell_type": "code",
   "execution_count": null,
   "id": "6b3d3d19",
   "metadata": {
    "ExecuteTime": {
     "end_time": "2024-04-17T21:19:10.366075Z",
     "start_time": "2024-04-17T21:19:10.356603Z"
    }
   },
   "outputs": [],
   "source": [
    "def getDfPlaylistsid(access_token, relevant_columns=['id','name', 'tracks_total']):\n",
    "    user_id = os.environ.get('user_id')\n",
    "    headers = {\n",
    "        \"Authorization\": f\"Bearer {access_token}\"\n",
    "    }\n",
    "    response = requests.get(f\"{BASE_URL}users/{user_id}/playlists\", headers=headers)\n",
    "    if response.ok:\n",
    "        user_playlists_json = response.json()\n",
    "        df_playlists = pd.json_normalize(user_playlists_json.get('items', []), sep='_', record_prefix='playlist_', errors='ignore')\n",
    "        \n",
    "        if relevant_columns:\n",
    "            df_playlists = df_playlists[[col for col in relevant_columns if col in df_playlists.columns]]\n",
    "        \n",
    "        return df_playlists"
   ]
  },
  {
   "cell_type": "code",
   "execution_count": null,
   "id": "16989e80",
   "metadata": {
    "ExecuteTime": {
     "end_time": "2024-04-17T21:19:10.657659Z",
     "start_time": "2024-04-17T21:19:10.641489Z"
    }
   },
   "outputs": [],
   "source": [
    "def getDfPlaylist(playlist_id, access_token):\n",
    "    headers = {\n",
    "        \"Authorization\": f\"Bearer {access_token}\"\n",
    "    }   \n",
    "    \n",
    "    all_tracks = []\n",
    "    url = f\"{BASE_URL}playlists/{playlist_id}/tracks\"\n",
    "    \n",
    "    while url:\n",
    "        response = requests.get(url, headers=headers, params={'limit': 100})\n",
    "        \n",
    "        if response.ok:\n",
    "            data = response.json()\n",
    "            all_tracks.extend(data.get('items', []))\n",
    "            url = data.get('next')  \n",
    "        else:\n",
    "            print(f\"Invalid: {response.status_code}, {response.text}\")\n",
    "            return None\n",
    "        \n",
    "    tracks = []\n",
    "    for item in all_tracks:\n",
    "        track = item.get('track')\n",
    "        if track:  \n",
    "            track_info = {\n",
    "                'id': track.get('id'),\n",
    "                'title': track.get('name'),\n",
    "                'popularity': track.get('popularity'),\n",
    "                'album': track['album'].get('name'),\n",
    "                'release_date': track['album'].get('release_date'),\n",
    "                'album_total_tracks': track['album'].get('total_tracks'),\n",
    "                'artist': ', '.join([artist['name'] for artist in track['artists']]), \n",
    "                'artist_id': track['artists'][0]['id'] if track['artists'] else None,  \n",
    "                'album_id': track['album'].get('id')\n",
    "            }\n",
    "            tracks.append(track_info)\n",
    "    \n",
    "    df_tracks = pd.DataFrame(tracks)\n",
    "    \n",
    "    df_artists = df_tracks[['artist_id']].drop_duplicates()\n",
    "    df_artists = getDfArtist(df_artists['artist_id'].tolist(), access_token)\n",
    "    \n",
    "    df_tmp_genre = pd.Series(df_artists.set_index('id')['genres'].to_dict())\n",
    "    df_tracks['genres'] = df_tracks['artist_id'].map(df_tmp_genre)\n",
    "    \n",
    "    return df_tracks"
   ]
  },
  {
   "cell_type": "code",
   "execution_count": null,
   "id": "8a0eb5ae",
   "metadata": {
    "ExecuteTime": {
     "end_time": "2024-04-17T21:19:10.890685Z",
     "start_time": "2024-04-17T21:19:10.879038Z"
    }
   },
   "outputs": [],
   "source": [
    "def getDfArtist(artist_ids, access_token):\n",
    "    MAX_IDS = 50\n",
    "    artists_info = {'artists': []}\n",
    "    unique_artist_ids = list(set(artist_ids)) #make comment about set in other code.\n",
    "    \n",
    "    headers = {\"Authorization\": f\"Bearer {access_token}\"}\n",
    "    for i in range(0, len(unique_artist_ids), MAX_IDS):\n",
    "        chunk = unique_artist_ids[i:i+MAX_IDS]\n",
    "        artist_ids_str = \",\".join(chunk)\n",
    "        \n",
    "        response = requests.get(f\"{BASE_URL}artists?ids={artist_ids_str}\", headers=headers)\n",
    "        \n",
    "        if response.ok:\n",
    "            chunk_data = response.json()\n",
    "            artists_info['artists'].extend(chunk_data.get('artists', []))\n",
    "        else:\n",
    "            print(f\"Invalid: {response.status_code}, {response.text}\")\n",
    "    \n",
    "    artists = []\n",
    "    for artist in artists_info['artists']:\n",
    "        artist_info = {\n",
    "            'followers': artist.get('followers', {}).get('total'),\n",
    "            'genres': artist.get('genres', []),  \n",
    "            'id': artist.get('id'),\n",
    "            'name': artist.get('name'),\n",
    "            'popularity': artist.get('popularity')\n",
    "        }\n",
    "        artists.append(artist_info)\n",
    "    \n",
    "    df_artists = pd.DataFrame(artists)\n",
    "    return df_artists"
   ]
  },
  {
   "cell_type": "code",
   "execution_count": null,
   "id": "36745afa",
   "metadata": {
    "ExecuteTime": {
     "end_time": "2024-04-17T21:19:11.152890Z",
     "start_time": "2024-04-17T21:19:11.141241Z"
    }
   },
   "outputs": [],
   "source": [
    "def getDfAudioFeatures(track_ids, access_token):\n",
    "    MAX_TRACKS = 100\n",
    "    all_features = []  \n",
    "    \n",
    "    headers = {\n",
    "        \"Authorization\": f\"Bearer {access_token}\"\n",
    "    }\n",
    "    \n",
    "    for i in range(0, len(track_ids), MAX_TRACKS):\n",
    "        chunk = track_ids[i:i+MAX_TRACKS]\n",
    "        track_ids_str = \",\".join(chunk)\n",
    "\n",
    "        response = requests.get(f\"{BASE_URL}audio-features?ids={track_ids_str}\", headers=headers)\n",
    "        if response.ok:\n",
    "            data = response.json()\n",
    "            all_features.extend(data.get('audio_features', []))\n",
    "        else:\n",
    "            print(f\"Invalid: {response.status_code}, {response.text}\")\n",
    "            return None  \n",
    "\n",
    "    features_data = []\n",
    "    for feature in all_features:\n",
    "        if feature:  \n",
    "            features = {\n",
    "                'danceability': feature.get('danceability'),\n",
    "                'energy': feature.get('energy'),\n",
    "                'key': feature.get('key'),\n",
    "                'loudness': feature.get('loudness'),\n",
    "                'mode': feature.get('mode'),\n",
    "                'speechiness': feature.get('speechiness'),\n",
    "                'acousticness': feature.get('acousticness'),\n",
    "                'instrumentalness': feature.get('instrumentalness'),\n",
    "                'liveness': feature.get('liveness'),\n",
    "                'valence': feature.get('valence'),\n",
    "                'tempo': feature.get('tempo'),\n",
    "                'duration_ms': feature.get('duration_ms'),\n",
    "                'time_signature': feature.get('time_signature'),\n",
    "                'id': feature.get('id')\n",
    "            }\n",
    "            features_data.append(features)\n",
    "    \n",
    "    df_features = pd.DataFrame(features_data)\n",
    "    if 'id' in df_features.columns:\n",
    "        df_features.set_index('id', inplace=True)\n",
    "    return df_features"
   ]
  },
  {
   "cell_type": "markdown",
   "id": "cd846204",
   "metadata": {},
   "source": [
    "# Charts"
   ]
  },
  {
   "cell_type": "code",
   "execution_count": null,
   "id": "bda81ff9",
   "metadata": {
    "ExecuteTime": {
     "end_time": "2024-04-17T21:19:11.643346Z",
     "start_time": "2024-04-17T21:19:11.547483Z"
    }
   },
   "outputs": [],
   "source": [
    "def plotTopGenres(df_artists):\n",
    "    all_genres = [genre for sublist in df_artists['genres'] if isinstance(sublist, list) for genre in sublist]\n",
    "    genre_counts = pd.Series(all_genres).value_counts().nlargest(10)  #Get the top 10 genres.\n",
    "    \n",
    "    data = {\n",
    "        'genres': genre_counts.index.tolist(),\n",
    "        'counts': genre_counts.values\n",
    "    }\n",
    "    source = ColumnDataSource(data=data)\n",
    "    \n",
    "    p = figure(x_range=data['genres'], title=\"Top 10 Genres Based on Primary Genre of Artists\",\n",
    "               toolbar_location=None, tools=\"\", height=400)\n",
    "    \n",
    "    hover = HoverTool()\n",
    "    hover.tooltips = [\n",
    "        (\"Genre\", \"@genres\"),\n",
    "        (\"Count\", \"@counts\")\n",
    "    ]\n",
    "    p.add_tools(hover)\n",
    "    \n",
    "    p.vbar(x='genres', top='counts', width=0.9, source=source, fill_color='purple', line_color=None)\n",
    "    \n",
    "    p.xaxis.major_label_orientation = 1.2\n",
    "    p.xgrid.grid_line_color = None\n",
    "    p.y_range.start = 0\n",
    "    \n",
    "    output_notebook()\n",
    "    show(p)\n",
    "\n",
    "plotTopGenres(df_artists)"
   ]
  },
  {
   "cell_type": "code",
   "execution_count": null,
   "id": "bff9ff67",
   "metadata": {
    "ExecuteTime": {
     "end_time": "2024-04-17T21:19:12.031956Z",
     "start_time": "2024-04-17T21:19:11.723259Z"
    }
   },
   "outputs": [],
   "source": [
    "all_genres = ' '.join([genre for sublist in df_tracks['genres'].dropna() for genre in sublist])\n",
    "\n",
    "wordcloud = WordCloud(width = 800, height = 800,\n",
    "                      background_color ='white', \n",
    "                      colormap='inferno',  \n",
    "                      min_font_size = 10).generate(all_genres)\n",
    "\n",
    "plt.figure(figsize = (8, 8), facecolor = None)\n",
    "plt.imshow(wordcloud)\n",
    "plt.axis(\"off\")\n",
    "plt.tight_layout(pad = 0)\n",
    "\n",
    "plt.show()"
   ]
  },
  {
   "cell_type": "code",
   "execution_count": null,
   "id": "6398b215",
   "metadata": {
    "ExecuteTime": {
     "end_time": "2024-04-17T21:19:12.167140Z",
     "start_time": "2024-04-17T21:19:12.033170Z"
    }
   },
   "outputs": [],
   "source": [
    "def plotPopularity(df_artists):\n",
    "    bin_edges = np.arange(0, 105, 5)\n",
    "    counts, _ = np.histogram(df_artists['popularity'], bins=bin_edges)\n",
    "    percentages = (counts / df_artists['popularity'].count()) * 100\n",
    "    avg_popularity = df_artists['popularity'].mean()\n",
    "\n",
    "    fig, ax = plt.subplots(figsize=(10, 6))\n",
    "    bars = ax.bar(range(len(bin_edges)-1), percentages, color='purple', edgecolor='black')\n",
    "    for bar, count in zip(bars, counts):\n",
    "        if count !=0:\n",
    "            ax.annotate(f'{count}', \n",
    "                        xy=(bar.get_x() + bar.get_width() / 2, bar.get_height()),\n",
    "                        xytext=(0, 3),  \n",
    "                        textcoords=\"offset points\",\n",
    "                        ha='center', va='bottom')\n",
    "\n",
    "    ax.set_xticks(range(len(bin_edges)-1))\n",
    "    ax.set_xticklabels([f'{bin_edges[i]}-{bin_edges[i+1]}' for i in range(len(bin_edges)-1)], rotation=45, ha=\"right\")\n",
    "\n",
    "    ax.set_xlabel('Popularity Score Range')\n",
    "    ax.set_ylabel('Percentage of Artists')\n",
    "    ax.set_title('Overall Playlist Popularity')\n",
    "\n",
    "    caption = f\"How unique is your taste? This playlist's average popularity score is roughly {avg_popularity:.1f}\"\n",
    "    fig.text(0.5, 0.01, caption, ha='center', va='bottom', fontsize=10, color='gray')\n",
    "\n",
    "    plt.tight_layout()\n",
    "    plt.show()\n",
    "    \n",
    "plotPopularity(df_artists)"
   ]
  },
  {
   "cell_type": "code",
   "execution_count": null,
   "id": "9a1300da",
   "metadata": {
    "ExecuteTime": {
     "end_time": "2024-04-17T21:19:12.318127Z",
     "start_time": "2024-04-17T21:19:12.273071Z"
    }
   },
   "outputs": [],
   "source": [
    "def plotgenreDiversity(df_artists):\n",
    "    all_genres = set()\n",
    "    for genres in df_artists['genres']:\n",
    "        all_genres.update(genres)\n",
    "    total_unique_genres = len(all_genres)\n",
    "    \n",
    "    # Prep data for the top 10 artists by genre count.\n",
    "    df_artists['genre_count'] = df_artists['genres'].apply(len)\n",
    "    top_artists = df_artists.nlargest(10, 'genre_count')\n",
    "    \n",
    "    source = ColumnDataSource(data=dict(\n",
    "        names=top_artists['name'],\n",
    "        counts=top_artists['genre_count'],\n",
    "        genres=['; '.join(genres) for genres in top_artists['genres']]\n",
    "    ))\n",
    "    \n",
    "    p = figure(x_range=top_artists['name'], height=400, title=\"Top 10 Artists by Genre Diversity\",\n",
    "               toolbar_location=None, tools=\"\")\n",
    "    p.vbar(x='names', top='counts', width=0.9, source=source, legend_field=\"names\", \n",
    "           line_color='white', fill_color='purple')\n",
    "    \n",
    "    p.add_tools(HoverTool(tooltips=[(\"Artist\", \"@names\"), (\"# Genres\", \"@counts\"), (\"Genres\", \"@genres\")]))\n",
    "    \n",
    "    p.xaxis.major_label_orientation = \"vertical\"\n",
    "    p.xgrid.grid_line_color = None\n",
    "    p.y_range.start = 0\n",
    "    \n",
    "    caption_text = f'<div><strong>Total Unique Genres in Playlist: {total_unique_genres}</strong></div>'\n",
    "    caption = Div(text=caption_text)\n",
    "    layout = column(p, caption)\n",
    "    \n",
    "    output_notebook() \n",
    "    show(layout)\n",
    "    \n",
    "plotgenreDiversity(df_artists)"
   ]
  },
  {
   "cell_type": "code",
   "execution_count": null,
   "id": "941d37a1",
   "metadata": {
    "ExecuteTime": {
     "end_time": "2024-04-17T21:19:12.625631Z",
     "start_time": "2024-04-17T21:19:12.510939Z"
    }
   },
   "outputs": [],
   "source": [
    "def plotRelease(df_tracks):\n",
    "    #filter out poorly formatted dates\n",
    "    df_tracks = df_tracks[df_tracks['release_date'].str.len()==10]\n",
    "    df_tracks['release_year'] = pd.to_datetime(df_tracks['release_date']).dt.year\n",
    "    tracks_by_year = df_tracks['release_year'].value_counts().sort_index()\n",
    "    plt.figure(figsize=(10, 6))\n",
    "    tracks_by_year.plot(kind='bar', color='purple', edgecolor='black') \n",
    "    plt.xlabel('Year of Release')\n",
    "    plt.ylabel('Number of Songs')\n",
    "    plt.title('Songs by Year of Release')\n",
    "    plt.xticks(rotation=45)\n",
    "    plt.show()\n",
    "\n",
    "plotRelease(df_tracks)"
   ]
  },
  {
   "cell_type": "code",
   "execution_count": null,
   "id": "b2ecd43a",
   "metadata": {
    "ExecuteTime": {
     "end_time": "2024-04-17T21:19:13.117976Z",
     "start_time": "2024-04-17T21:19:12.938266Z"
    }
   },
   "outputs": [],
   "source": [
    "def plotTopofPlaylist(df_tracks, artists_df):\n",
    "    fig, axs = plt.subplots(1, 2, figsize=(20, 6)) \n",
    "\n",
    "    top_5_songs = df_tracks.sort_values(ascending=False, by='popularity')[:5]\n",
    "    axs[0].bar(top_5_songs['title'], top_5_songs['popularity'], color='purple', width=0.5)\n",
    "    axs[0].set_title('Top 5 Most Popular Songs in Playlist')\n",
    "    axs[0].set_xlabel('Song Title')\n",
    "    axs[0].set_ylabel('Popularity')\n",
    "    axs[0].tick_params(axis='x', rotation=90)\n",
    "\n",
    "    top_5_artists = artists_df.sort_values(ascending=False, by='popularity')[:5]\n",
    "    axs[1].bar(top_5_artists['name'], top_5_artists['popularity'], color='purple', width=0.4)\n",
    "    axs[1].set_title('Top 5 Spotify Artists in Playlist')\n",
    "    axs[1].set_xlabel('Artist')\n",
    "    axs[1].set_ylabel('Popularity')\n",
    "    \n",
    "    plt.tight_layout()\n",
    "    plt.show()\n",
    "\n",
    "t = time.process_time()\n",
    "plotTopofPlaylist(df_tracks, df_artists)\n",
    "elapsed_time = time.process_time() - t\n",
    "print('Time elapsed:', elapsed_time, 's')"
   ]
  },
  {
   "cell_type": "code",
   "execution_count": null,
   "id": "57b96335",
   "metadata": {
    "ExecuteTime": {
     "end_time": "2024-04-17T21:19:13.647870Z",
     "start_time": "2024-04-17T21:19:13.470381Z"
    }
   },
   "outputs": [],
   "source": [
    "\n",
    "def plotAudioFeatures(df_audio_features):\n",
    "    features = ['danceability', 'energy', 'liveness']\n",
    "    data = [df_audio_features[feature] for feature in features]\n",
    "    \n",
    "    colors = ['skyblue', 'lightgreen', 'salmon']\n",
    "    \n",
    "    fig, ax1 = plt.subplots(figsize=(14, 6))\n",
    "    # plt.style.use('seaborn-deep')\n",
    "\n",
    "    ax1.hist(data, bins=20, label=features)\n",
    "    ax1.set_xlabel(\"Scale\")\n",
    "    ax1.set_ylabel(\"Frequency\")\n",
    "    ax1.legend(loc='upper left')\n",
    "    \n",
    "    ax2 = ax1.twinx()\n",
    "    \n",
    "    box = ax2.boxplot(data, vert=False, positions=np.arange(len(data)) + 1, patch_artist=True)\n",
    "    \n",
    "    for patch, color in zip(box['boxes'], colors):\n",
    "        patch.set_facecolor(color)\n",
    "    \n",
    "    ax2.yaxis.tick_right()\n",
    "    ax2.set_yticks(np.arange(1, len(data) + 1))\n",
    "    ax2.set_yticklabels(features)\n",
    "    ax2.yaxis.set_label_position(\"right\")\n",
    "    ax2.set_ylabel(\"Features\")\n",
    "\n",
    "    plt.title(\"Audio Features Distributions\")\n",
    "    plt.show()\n",
    "\n",
    "plotAudioFeatures(df_audio_features)"
   ]
  },
  {
   "cell_type": "code",
   "execution_count": null,
   "id": "3bc5165a",
   "metadata": {
    "ExecuteTime": {
     "end_time": "2024-04-17T21:19:14.019164Z",
     "start_time": "2024-04-17T21:19:13.932382Z"
    }
   },
   "outputs": [],
   "source": [
    "def plotDuration(df_audio_features):\n",
    "    plt.hist(df_audio_features.duration_ms, color='purple', rwidth=0.7)\n",
    "    plt.xlabel(\"Song Duration\")\n",
    "    plt.xticks(rotation=90)\n",
    "    plt.ylabel(\"Frequency\")\n",
    "    plt.title(\"Song Duration Distribution\")\n",
    "    plt.show()\n",
    "\n",
    "t = time.process_time()\n",
    "plotDuration(df_audio_features)\n",
    "elapsed_time = time.process_time() - t\n",
    "print('Time elapsed:', elapsed_time,'s')"
   ]
  },
  {
   "cell_type": "code",
   "execution_count": null,
   "id": "094d21cd",
   "metadata": {
    "ExecuteTime": {
     "end_time": "2024-04-17T21:19:14.587733Z",
     "start_time": "2024-04-17T21:19:14.455515Z"
    }
   },
   "outputs": [],
   "source": [
    "def plotTempo(df_audio_features):\n",
    "    plt.figure(figsize=(10, 6))\n",
    "    plt.hist(df_audio_features['tempo'], bins=30, color='purple', edgecolor='black')\n",
    "    plt.xlabel('Tempo (BPM)')\n",
    "    plt.ylabel('Number of Songs')\n",
    "    plt.title('Frequency of Song Tempos')\n",
    "    plt.show()\n",
    "\n",
    "plotTempo(df_audio_features)"
   ]
  },
  {
   "cell_type": "code",
   "execution_count": null,
   "id": "9cd63c68",
   "metadata": {
    "ExecuteTime": {
     "end_time": "2024-04-17T21:19:19.391052Z",
     "start_time": "2024-04-17T21:19:15.106817Z"
    }
   },
   "outputs": [],
   "source": [
    "t = time.process_time()\n",
    "\n",
    "playlists = getDfPlaylists(getAuth())\n",
    "df_tracks = getDfPlaylist('2NhLGiv2PHFUIbnOZHWNMa',getAuth())\n",
    "df_audio_features = getDfAudioFeatures(list(df_tracks.id), getAuth())\n",
    "df_artists = getDfArtist(list(df_tracks.artist_id), getAuth())\n",
    "plotTopGenres(df_artists)\n",
    "plotPopularity(df_artists)\n",
    "plotgenreDiversity(df_artists)\n",
    "plotRelease(df_tracks)\n",
    "plotTopofPlaylist(df_tracks, df_artists)\n",
    "plotAudioFeatures(df_audio_features)\n",
    "plotDuration(df_audio_features)\n",
    "plotTempo(df_audio_features)\n",
    "\n",
    "elapsed_time = time.process_time() - t\n",
    "print('Time elapsed:', elapsed_time,'s')"
   ]
  },
  {
   "cell_type": "code",
   "execution_count": null,
   "id": "1967cb71-81ec-4bc1-8ecf-bea47ef256c1",
   "metadata": {},
   "outputs": [],
   "source": [
    "playlists = getDfPlaylistsid(getAuth())\n",
    "print(playlists)"
   ]
  },
  {
   "cell_type": "code",
   "execution_count": null,
   "id": "b8b4dc04-dcd3-4777-8e0d-1d2a70601365",
   "metadata": {},
   "outputs": [],
   "source": []
  }
 ],
 "metadata": {
  "kernelspec": {
   "display_name": "Python 3 (ipykernel)",
   "language": "python",
   "name": "python3"
  },
  "language_info": {
   "codemirror_mode": {
    "name": "ipython",
    "version": 3
   },
   "file_extension": ".py",
   "mimetype": "text/x-python",
   "name": "python",
   "nbconvert_exporter": "python",
   "pygments_lexer": "ipython3",
   "version": "3.11.8"
  }
 },
 "nbformat": 4,
 "nbformat_minor": 5
}
